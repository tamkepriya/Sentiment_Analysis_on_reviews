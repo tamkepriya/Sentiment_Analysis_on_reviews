{
 "cells": [
  {
   "cell_type": "markdown",
   "id": "4f4b0217",
   "metadata": {},
   "source": [
    "# Problem Statement:"
   ]
  },
  {
   "cell_type": "code",
   "execution_count": null,
   "id": "9c3b9662",
   "metadata": {},
   "outputs": [],
   "source": []
  },
  {
   "cell_type": "markdown",
   "id": "930d5fc5",
   "metadata": {},
   "source": [
    "# 1. Import Libraries:"
   ]
  },
  {
   "cell_type": "code",
   "execution_count": null,
   "id": "e7933b59",
   "metadata": {},
   "outputs": [],
   "source": []
  },
  {
   "cell_type": "code",
   "execution_count": null,
   "id": "6c6ab585",
   "metadata": {},
   "outputs": [],
   "source": []
  },
  {
   "cell_type": "markdown",
   "id": "2bf7e569",
   "metadata": {},
   "source": [
    "# 2. Data gathering:"
   ]
  },
  {
   "cell_type": "code",
   "execution_count": null,
   "id": "119ecadc",
   "metadata": {},
   "outputs": [],
   "source": []
  },
  {
   "cell_type": "code",
   "execution_count": null,
   "id": "6f8843e4",
   "metadata": {},
   "outputs": [],
   "source": []
  },
  {
   "cell_type": "markdown",
   "id": "089345cc",
   "metadata": {},
   "source": [
    "# 3.Exploratory Data Analysis:"
   ]
  },
  {
   "cell_type": "markdown",
   "id": "1131a2ea",
   "metadata": {},
   "source": [
    "## 3.1 Initial Preprocessing:"
   ]
  },
  {
   "cell_type": "markdown",
   "id": "4caa0b25",
   "metadata": {},
   "source": [
    "### 1. language Detection"
   ]
  },
  {
   "cell_type": "code",
   "execution_count": null,
   "id": "7cf01f58",
   "metadata": {},
   "outputs": [],
   "source": []
  },
  {
   "cell_type": "code",
   "execution_count": null,
   "id": "deddce6e",
   "metadata": {},
   "outputs": [],
   "source": []
  },
  {
   "cell_type": "markdown",
   "id": "a5d9937e",
   "metadata": {},
   "source": [
    "### 2. Ngrams:"
   ]
  },
  {
   "cell_type": "code",
   "execution_count": null,
   "id": "73b066fc",
   "metadata": {},
   "outputs": [],
   "source": []
  },
  {
   "cell_type": "code",
   "execution_count": null,
   "id": "4f457a9a",
   "metadata": {},
   "outputs": [],
   "source": []
  },
  {
   "cell_type": "markdown",
   "id": "ada17f4e",
   "metadata": {},
   "source": [
    "### 3. Word Cloud:"
   ]
  },
  {
   "cell_type": "code",
   "execution_count": null,
   "id": "286e6022",
   "metadata": {},
   "outputs": [],
   "source": []
  },
  {
   "cell_type": "code",
   "execution_count": null,
   "id": "e76566fc",
   "metadata": {},
   "outputs": [],
   "source": []
  },
  {
   "cell_type": "code",
   "execution_count": null,
   "id": "400e08ad",
   "metadata": {},
   "outputs": [],
   "source": []
  }
 ],
 "metadata": {
  "kernelspec": {
   "display_name": "Python 3 (ipykernel)",
   "language": "python",
   "name": "python3"
  },
  "language_info": {
   "codemirror_mode": {
    "name": "ipython",
    "version": 3
   },
   "file_extension": ".py",
   "mimetype": "text/x-python",
   "name": "python",
   "nbconvert_exporter": "python",
   "pygments_lexer": "ipython3",
   "version": "3.10.4"
  }
 },
 "nbformat": 4,
 "nbformat_minor": 5
}
